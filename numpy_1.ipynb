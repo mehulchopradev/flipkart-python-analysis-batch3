{
 "cells": [
  {
   "cell_type": "code",
   "execution_count": 4,
   "metadata": {},
   "outputs": [],
   "source": [
    "import numpy as np"
   ]
  },
  {
   "cell_type": "code",
   "execution_count": 5,
   "metadata": {},
   "outputs": [],
   "source": [
    "marks = [10, 4, 5, 6, 5, 4, 10, 3, 2, 1, 10, 9, 8]"
   ]
  },
  {
   "cell_type": "code",
   "execution_count": 11,
   "metadata": {},
   "outputs": [
    {
     "name": "stdout",
     "output_type": "stream",
     "text": [
      "<class 'numpy.ndarray'>\n",
      "[10  4  5  6  5  4 10  3  2  1 10  9  8]\n",
      "1\n",
      "(13,)\n",
      "int8\n"
     ]
    }
   ],
   "source": [
    "# numpy data structure first to perform numpy operations\n",
    "# ndarray\n",
    "n1 = np.array(marks, dtype=np.int8)\n",
    "print(type(n1))\n",
    "print(n1)\n",
    "print(n1.ndim)\n",
    "print(n1.shape)\n",
    "print(n1.dtype)"
   ]
  },
  {
   "cell_type": "code",
   "execution_count": 25,
   "metadata": {},
   "outputs": [
    {
     "name": "stdout",
     "output_type": "stream",
     "text": [
      "0\n",
      "5\n",
      "8\n",
      "10\n",
      "[ 0  8 10  6]\n"
     ]
    }
   ],
   "source": [
    "# indexing\n",
    "print(n1[0])\n",
    "print(n1[2])\n",
    "print(n1[-1])\n",
    "print(n1[-3])\n",
    "\n",
    "# multiple indexing\n",
    "print(n1[[0, -1, -3, 1]])"
   ]
  },
  {
   "cell_type": "code",
   "execution_count": 19,
   "metadata": {},
   "outputs": [
    {
     "name": "stdout",
     "output_type": "stream",
     "text": [
      "[10  6  5  6  5  4 10  3  2  1 10  9  8]\n",
      "[ 0  6  5  6  5  4 10  3  2  1 10  0  8]\n"
     ]
    }
   ],
   "source": [
    "# indexing + modify\n",
    "n1[1] = 6\n",
    "print(n1)\n",
    "\n",
    "# indexing + modify (vectorized) -- broadcasting\n",
    "n1[[0, -2]] = 0\n",
    "print(n1)"
   ]
  },
  {
   "cell_type": "code",
   "execution_count": 24,
   "metadata": {},
   "outputs": [
    {
     "name": "stdout",
     "output_type": "stream",
     "text": [
      "[ 0  6  5  6  5  4 10  3  2  1 10  0  8]\n",
      "[0 6 5]\n",
      "[0 6 5]\n",
      "[ 6  5  4 10  3  2  1 10  0  8]\n",
      "[ 1 10  0  8]\n"
     ]
    }
   ],
   "source": [
    "# slicing\n",
    "print(n1)\n",
    "print(n1[0:3])\n",
    "print(n1[:3])\n",
    "print(n1[3:])\n",
    "print(n1[-4:])"
   ]
  },
  {
   "cell_type": "code",
   "execution_count": 28,
   "metadata": {},
   "outputs": [
    {
     "name": "stdout",
     "output_type": "stream",
     "text": [
      "[ 0  0  0  0  5  4 10  3  2  1 10  0  8]\n",
      "[ 0  0  0  0  5  4 10  3  2  1 10  0  8]\n"
     ]
    }
   ],
   "source": [
    "# slicing + modify\n",
    "print(n1)\n",
    "n1[:4] = 0 # broadcasting\n",
    "print(n1)"
   ]
  },
  {
   "cell_type": "code",
   "execution_count": 31,
   "metadata": {},
   "outputs": [
    {
     "name": "stdout",
     "output_type": "stream",
     "text": [
      "[ 0  0  0  0  5  4 10  3  2  1 10  0  8]\n",
      "[ 1  1  1  1  6  5 11  4  3  2 11  1  9]\n",
      "[  0   0   0   0  25  16 100   9   4   1 100   0  64]\n"
     ]
    }
   ],
   "source": [
    "# arithmetic operations\n",
    "print(n1)\n",
    "n2 = n1 + 1\n",
    "print(n2)\n",
    "n3 = n1 ** 2\n",
    "print(n3)"
   ]
  },
  {
   "cell_type": "code",
   "execution_count": 34,
   "metadata": {},
   "outputs": [
    {
     "name": "stdout",
     "output_type": "stream",
     "text": [
      "[ 0  0  0  0  5  4 10  3  2  1 10  0  8]\n",
      "[ True  True  True  True False False False False False False False  True\n",
      " False]\n",
      "[False False False False False False  True False False False  True False\n",
      "  True]\n"
     ]
    }
   ],
   "source": [
    "# relational operators\n",
    "print(n1)\n",
    "n4 = n1 == 0\n",
    "print(n4)\n",
    "n5 = n1 > 5\n",
    "print(n5)"
   ]
  },
  {
   "cell_type": "code",
   "execution_count": 41,
   "metadata": {},
   "outputs": [
    {
     "name": "stdout",
     "output_type": "stream",
     "text": [
      "[ 0  0  0  0  5  4 10  3  2  1 10  0  8]\n",
      "[10 10  8]\n",
      "[ 0  0  0  0  4 10  3  2  1 10  0]\n"
     ]
    }
   ],
   "source": [
    "# filtering\n",
    "print(n1)\n",
    "n6 = n1[n1 > 5]\n",
    "print(n6)\n",
    "\n",
    "n7 = n1[(n1 == 10) | (n1 < 5)]\n",
    "print(n7)"
   ]
  },
  {
   "cell_type": "code",
   "execution_count": 49,
   "metadata": {},
   "outputs": [
    {
     "name": "stdout",
     "output_type": "stream",
     "text": [
      "[ 0  0  0  0  5  4 10  3  2  1 10  0  8]\n",
      "0\n",
      "10\n",
      "3.3076923076923075\n",
      "2.0\n",
      "3.6874968659098104\n",
      "13.597633136094675\n"
     ]
    }
   ],
   "source": [
    "# statistical\n",
    "print(n1)\n",
    "print(n1.min())\n",
    "print(n1.max())\n",
    "print(n1.mean())\n",
    "print(np.median(n1))\n",
    "print(n1.std())\n",
    "print(n1.var())"
   ]
  },
  {
   "cell_type": "code",
   "execution_count": 50,
   "metadata": {},
   "outputs": [
    {
     "data": {
      "text/plain": [
       "array([10, 20,  5, 14], dtype=int8)"
      ]
     },
     "execution_count": 50,
     "metadata": {},
     "output_type": "execute_result"
    }
   ],
   "source": [
    "n8 = np.array([10, 20, 5, 14], dtype=np.int8)\n",
    "n8"
   ]
  },
  {
   "cell_type": "code",
   "execution_count": 52,
   "metadata": {},
   "outputs": [
    {
     "name": "stdout",
     "output_type": "stream",
     "text": [
      "[10 30 35 49]\n",
      "[   10   200  1000 14000]\n"
     ]
    }
   ],
   "source": [
    "print(n8.cumsum())\n",
    "print(n8.cumprod())"
   ]
  },
  {
   "cell_type": "code",
   "execution_count": 58,
   "metadata": {},
   "outputs": [
    {
     "name": "stdout",
     "output_type": "stream",
     "text": [
      "[ 0  0  0  0  5  4 10  3  2  1 10  0  8]\n",
      "[0 0 0 0 0 0 1 0 0 0 1 0 1]\n",
      "(array([ 6, 10, 12]),)\n"
     ]
    }
   ],
   "source": [
    "print(n1)\n",
    "n9 = np.where(n1 > 5, 1, 0)\n",
    "print(n9)\n",
    "n10 = np.where(n1 > 5)\n",
    "print(n10)"
   ]
  }
 ],
 "metadata": {
  "kernelspec": {
   "display_name": "Python 3",
   "language": "python",
   "name": "python3"
  },
  "language_info": {
   "codemirror_mode": {
    "name": "ipython",
    "version": 3
   },
   "file_extension": ".py",
   "mimetype": "text/x-python",
   "name": "python",
   "nbconvert_exporter": "python",
   "pygments_lexer": "ipython3",
   "version": "3.8.6"
  }
 },
 "nbformat": 4,
 "nbformat_minor": 4
}
