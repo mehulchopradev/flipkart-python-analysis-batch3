{
 "cells": [
  {
   "cell_type": "code",
   "execution_count": 18,
   "metadata": {},
   "outputs": [],
   "source": [
    "from pandas import Series\n",
    "import pandas as pd\n",
    "import numpy as np"
   ]
  },
  {
   "cell_type": "code",
   "execution_count": 19,
   "metadata": {},
   "outputs": [],
   "source": [
    "marks = [10, 4, 5, 6, 5, 4, 10, 3, 2, 1, 10, 9, 8]"
   ]
  },
  {
   "cell_type": "code",
   "execution_count": 20,
   "metadata": {},
   "outputs": [
    {
     "name": "stdout",
     "output_type": "stream",
     "text": [
      "0     10\n",
      "1      4\n",
      "2      5\n",
      "3      6\n",
      "4      5\n",
      "5      4\n",
      "6     10\n",
      "7      3\n",
      "8      2\n",
      "9      1\n",
      "10    10\n",
      "11     9\n",
      "12     8\n",
      "dtype: int8\n"
     ]
    }
   ],
   "source": [
    "s1 = Series(marks, dtype=np.int8)\n",
    "print(s1)"
   ]
  },
  {
   "cell_type": "code",
   "execution_count": 21,
   "metadata": {},
   "outputs": [
    {
     "name": "stdout",
     "output_type": "stream",
     "text": [
      "1     10\n",
      "5      4\n",
      "2      5\n",
      "3      6\n",
      "10     5\n",
      "9      4\n",
      "20    10\n",
      "22     3\n",
      "13     2\n",
      "14     1\n",
      "15    10\n",
      "7      9\n",
      "19     8\n",
      "dtype: int64\n"
     ]
    }
   ],
   "source": [
    "rolls = [1, 5, 2, 3, 10, 9, 20, 22, 13, 14, 15, 7, 19]\n",
    "s2 = Series(marks, index=rolls)\n",
    "print(s2)"
   ]
  },
  {
   "cell_type": "code",
   "execution_count": 22,
   "metadata": {},
   "outputs": [
    {
     "name": "stdout",
     "output_type": "stream",
     "text": [
      "Int64Index([1, 5, 2, 3, 10, 9, 20, 22, 13, 14, 15, 7, 19], dtype='int64')\n",
      "[10  4  5  6  5  4 10  3  2  1 10  9  8]\n",
      "int64\n"
     ]
    }
   ],
   "source": [
    "print(s2.index)\n",
    "print(s2.values)\n",
    "print(s2.dtype)"
   ]
  },
  {
   "cell_type": "code",
   "execution_count": 23,
   "metadata": {},
   "outputs": [
    {
     "name": "stdout",
     "output_type": "stream",
     "text": [
      "10\n",
      "8\n",
      "1     10\n",
      "19     8\n",
      "dtype: int64\n",
      "5\n",
      "5      4\n",
      "15    10\n",
      "dtype: int64\n"
     ]
    }
   ],
   "source": [
    "# indexing\n",
    "# implict 0 based indexes\n",
    "print(s2.iloc[0])\n",
    "print(s2.iloc[-1])\n",
    "print(s2.iloc[[0, -1]])\n",
    "\n",
    "# explicit user defined index\n",
    "print(s2.loc[10])\n",
    "print(s2.loc[[5, 15]])"
   ]
  },
  {
   "cell_type": "code",
   "execution_count": 33,
   "metadata": {},
   "outputs": [
    {
     "name": "stdout",
     "output_type": "stream",
     "text": [
      "1     10\n",
      "5      4\n",
      "2      5\n",
      "3      6\n",
      "10     5\n",
      "9      4\n",
      "20    10\n",
      "22     3\n",
      "13     2\n",
      "14     1\n",
      "15    10\n",
      "7      9\n",
      "19     8\n",
      "dtype: int64\n",
      "1    10\n",
      "5     4\n",
      "2     5\n",
      "dtype: int64\n",
      "14     1\n",
      "15    10\n",
      "7      9\n",
      "19     8\n",
      "dtype: int64\n",
      "1     10\n",
      "5      4\n",
      "2      5\n",
      "3      6\n",
      "10     5\n",
      "9      4\n",
      "20    10\n",
      "22     3\n",
      "13     2\n",
      "14     1\n",
      "15    10\n",
      "7      9\n",
      "19     8\n",
      "dtype: int64\n"
     ]
    }
   ],
   "source": [
    "# slicing\n",
    "print(s2)\n",
    "\n",
    "# slice by the implict 0 based indices\n",
    "print(s2.iloc[:3])\n",
    "print(s2.iloc[-4:])\n",
    "\n",
    "# slice by the explict roll no indices\n",
    "print(s2.loc[1:19]) # 1 explict and 2 explicit"
   ]
  },
  {
   "cell_type": "code",
   "execution_count": 30,
   "metadata": {},
   "outputs": [
    {
     "name": "stdout",
     "output_type": "stream",
     "text": [
      "1     10\n",
      "5      4\n",
      "2      5\n",
      "3      6\n",
      "10     5\n",
      "9      4\n",
      "20    10\n",
      "22     3\n",
      "13     2\n",
      "14     1\n",
      "15    10\n",
      "7      9\n",
      "19     8\n",
      "dtype: int64\n",
      "1     9\n",
      "5     3\n",
      "2     4\n",
      "3     5\n",
      "10    4\n",
      "9     3\n",
      "20    9\n",
      "22    2\n",
      "13    1\n",
      "14    0\n",
      "15    9\n",
      "7     8\n",
      "19    7\n",
      "dtype: int64\n"
     ]
    }
   ],
   "source": [
    "# arithmetic operations\n",
    "print(s2)\n",
    "s3 = s2 - 1\n",
    "print(s3)"
   ]
  },
  {
   "cell_type": "code",
   "execution_count": 32,
   "metadata": {},
   "outputs": [
    {
     "name": "stdout",
     "output_type": "stream",
     "text": [
      "1     10\n",
      "5      4\n",
      "2      5\n",
      "3      6\n",
      "10     5\n",
      "9      4\n",
      "20    10\n",
      "22     3\n",
      "13     2\n",
      "14     1\n",
      "15    10\n",
      "7      9\n",
      "19     8\n",
      "dtype: int64\n",
      "1      True\n",
      "5     False\n",
      "2     False\n",
      "3      True\n",
      "10    False\n",
      "9     False\n",
      "20     True\n",
      "22    False\n",
      "13    False\n",
      "14    False\n",
      "15     True\n",
      "7      True\n",
      "19     True\n",
      "dtype: bool\n"
     ]
    }
   ],
   "source": [
    "# relational operations\n",
    "print(s2)\n",
    "s4 = s2 > 5\n",
    "print(s4)"
   ]
  }
 ],
 "metadata": {
  "kernelspec": {
   "display_name": "Python 3",
   "language": "python",
   "name": "python3"
  },
  "language_info": {
   "codemirror_mode": {
    "name": "ipython",
    "version": 3
   },
   "file_extension": ".py",
   "mimetype": "text/x-python",
   "name": "python",
   "nbconvert_exporter": "python",
   "pygments_lexer": "ipython3",
   "version": "3.8.6"
  }
 },
 "nbformat": 4,
 "nbformat_minor": 4
}
