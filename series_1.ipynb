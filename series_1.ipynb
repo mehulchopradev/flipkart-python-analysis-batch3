{
 "cells": [
  {
   "cell_type": "code",
   "execution_count": 1,
   "metadata": {},
   "outputs": [],
   "source": [
    "from pandas import Series\n",
    "import pandas as pd\n",
    "import numpy as np"
   ]
  },
  {
   "cell_type": "code",
   "execution_count": 2,
   "metadata": {},
   "outputs": [],
   "source": [
    "marks = [10, 4, 5, 6, 5, 4, 10, 3, 2, 1, 10, 9, 8]"
   ]
  },
  {
   "cell_type": "code",
   "execution_count": 3,
   "metadata": {},
   "outputs": [
    {
     "name": "stdout",
     "output_type": "stream",
     "text": [
      "0     10\n",
      "1      4\n",
      "2      5\n",
      "3      6\n",
      "4      5\n",
      "5      4\n",
      "6     10\n",
      "7      3\n",
      "8      2\n",
      "9      1\n",
      "10    10\n",
      "11     9\n",
      "12     8\n",
      "dtype: int8\n"
     ]
    }
   ],
   "source": [
    "s1 = Series(marks, dtype=np.int8)\n",
    "print(s1)"
   ]
  },
  {
   "cell_type": "code",
   "execution_count": 4,
   "metadata": {},
   "outputs": [
    {
     "name": "stdout",
     "output_type": "stream",
     "text": [
      "1     10\n",
      "5      4\n",
      "2      5\n",
      "3      6\n",
      "10     5\n",
      "9      4\n",
      "20    10\n",
      "22     3\n",
      "13     2\n",
      "14     1\n",
      "15    10\n",
      "7      9\n",
      "19     8\n",
      "dtype: int64\n"
     ]
    }
   ],
   "source": [
    "rolls = [1, 5, 2, 3, 10, 9, 20, 22, 13, 14, 15, 7, 19]\n",
    "s2 = Series(marks, index=rolls)\n",
    "print(s2)"
   ]
  },
  {
   "cell_type": "code",
   "execution_count": 5,
   "metadata": {},
   "outputs": [
    {
     "name": "stdout",
     "output_type": "stream",
     "text": [
      "Int64Index([1, 5, 2, 3, 10, 9, 20, 22, 13, 14, 15, 7, 19], dtype='int64')\n",
      "[10  4  5  6  5  4 10  3  2  1 10  9  8]\n",
      "int64\n"
     ]
    }
   ],
   "source": [
    "print(s2.index)\n",
    "print(s2.values)\n",
    "print(s2.dtype)"
   ]
  },
  {
   "cell_type": "code",
   "execution_count": 6,
   "metadata": {},
   "outputs": [
    {
     "name": "stdout",
     "output_type": "stream",
     "text": [
      "10\n",
      "8\n",
      "1     10\n",
      "19     8\n",
      "dtype: int64\n",
      "5\n",
      "5      4\n",
      "15    10\n",
      "dtype: int64\n"
     ]
    }
   ],
   "source": [
    "# indexing\n",
    "# implict 0 based indexes\n",
    "print(s2.iloc[0])\n",
    "print(s2.iloc[-1])\n",
    "print(s2.iloc[[0, -1]])\n",
    "\n",
    "# explicit user defined index\n",
    "print(s2.loc[10])\n",
    "print(s2.loc[[5, 15]])"
   ]
  },
  {
   "cell_type": "code",
   "execution_count": 7,
   "metadata": {},
   "outputs": [
    {
     "name": "stdout",
     "output_type": "stream",
     "text": [
      "1     10\n",
      "5      4\n",
      "2      5\n",
      "3      6\n",
      "10     5\n",
      "9      4\n",
      "20    10\n",
      "22     3\n",
      "13     2\n",
      "14     1\n",
      "15    10\n",
      "7      9\n",
      "19     8\n",
      "dtype: int64\n",
      "1    10\n",
      "5     4\n",
      "2     5\n",
      "dtype: int64\n",
      "14     1\n",
      "15    10\n",
      "7      9\n",
      "19     8\n",
      "dtype: int64\n",
      "1     10\n",
      "5      4\n",
      "2      5\n",
      "3      6\n",
      "10     5\n",
      "9      4\n",
      "20    10\n",
      "22     3\n",
      "13     2\n",
      "14     1\n",
      "15    10\n",
      "7      9\n",
      "19     8\n",
      "dtype: int64\n"
     ]
    }
   ],
   "source": [
    "# slicing\n",
    "print(s2)\n",
    "\n",
    "# slice by the implict 0 based indices\n",
    "print(s2.iloc[:3])\n",
    "print(s2.iloc[-4:])\n",
    "\n",
    "# slice by the explict roll no indices\n",
    "print(s2.loc[1:19]) # 1 explict and 2 explicit"
   ]
  },
  {
   "cell_type": "code",
   "execution_count": 8,
   "metadata": {},
   "outputs": [
    {
     "name": "stdout",
     "output_type": "stream",
     "text": [
      "1     10\n",
      "5      4\n",
      "2      5\n",
      "3      6\n",
      "10     5\n",
      "9      4\n",
      "20    10\n",
      "22     3\n",
      "13     2\n",
      "14     1\n",
      "15    10\n",
      "7      9\n",
      "19     8\n",
      "dtype: int64\n",
      "1     9\n",
      "5     3\n",
      "2     4\n",
      "3     5\n",
      "10    4\n",
      "9     3\n",
      "20    9\n",
      "22    2\n",
      "13    1\n",
      "14    0\n",
      "15    9\n",
      "7     8\n",
      "19    7\n",
      "dtype: int64\n"
     ]
    }
   ],
   "source": [
    "# arithmetic operations\n",
    "print(s2)\n",
    "s3 = s2 - 1\n",
    "print(s3)"
   ]
  },
  {
   "cell_type": "code",
   "execution_count": 9,
   "metadata": {},
   "outputs": [
    {
     "name": "stdout",
     "output_type": "stream",
     "text": [
      "1     10\n",
      "5      4\n",
      "2      5\n",
      "3      6\n",
      "10     5\n",
      "9      4\n",
      "20    10\n",
      "22     3\n",
      "13     2\n",
      "14     1\n",
      "15    10\n",
      "7      9\n",
      "19     8\n",
      "dtype: int64\n",
      "1      True\n",
      "5     False\n",
      "2     False\n",
      "3      True\n",
      "10    False\n",
      "9     False\n",
      "20     True\n",
      "22    False\n",
      "13    False\n",
      "14    False\n",
      "15     True\n",
      "7      True\n",
      "19     True\n",
      "dtype: bool\n"
     ]
    }
   ],
   "source": [
    "# relational operations\n",
    "print(s2)\n",
    "s4 = s2 > 5\n",
    "print(s4)"
   ]
  },
  {
   "cell_type": "code",
   "execution_count": 12,
   "metadata": {},
   "outputs": [
    {
     "name": "stdout",
     "output_type": "stream",
     "text": [
      "1     10\n",
      "5      4\n",
      "2      5\n",
      "3      6\n",
      "10     5\n",
      "9      4\n",
      "20    10\n",
      "22     3\n",
      "13     2\n",
      "14     1\n",
      "15    10\n",
      "7      9\n",
      "19     8\n",
      "dtype: int64\n",
      "5.923076923076923\n",
      "5.0\n",
      "3.1744169664559\n",
      "10.076923076923078\n",
      "1\n",
      "10\n"
     ]
    }
   ],
   "source": [
    "print(s2)\n",
    "print(s2.mean())\n",
    "print(s2.median())\n",
    "print(s2.std())\n",
    "print(s2.var())\n",
    "print(s2.min())\n",
    "print(s2.max())"
   ]
  },
  {
   "cell_type": "code",
   "execution_count": 16,
   "metadata": {},
   "outputs": [
    {
     "name": "stdout",
     "output_type": "stream",
     "text": [
      "1     10\n",
      "5      4\n",
      "2      5\n",
      "3      6\n",
      "10     5\n",
      "9      4\n",
      "20    10\n",
      "22     3\n",
      "13     2\n",
      "14     1\n",
      "15    10\n",
      "7      9\n",
      "19     8\n",
      "dtype: int64\n",
      "[10  4  5  6  3  2  1  9  8]\n"
     ]
    },
    {
     "data": {
      "text/plain": [
       "10    3\n",
       "5     2\n",
       "4     2\n",
       "9     1\n",
       "8     1\n",
       "6     1\n",
       "3     1\n",
       "2     1\n",
       "1     1\n",
       "dtype: int64"
      ]
     },
     "execution_count": 16,
     "metadata": {},
     "output_type": "execute_result"
    }
   ],
   "source": [
    "print(s2)\n",
    "print(s2.unique())\n",
    "frequency_series = s2.value_counts()\n",
    "frequency_series"
   ]
  },
  {
   "cell_type": "code",
   "execution_count": 17,
   "metadata": {},
   "outputs": [
    {
     "data": {
      "text/plain": [
       "<AxesSubplot:>"
      ]
     },
     "execution_count": 17,
     "metadata": {},
     "output_type": "execute_result"
    },
    {
     "data": {
      "image/png": "[encoded data removed]",
      "text/plain": [
       "<Figure size 432x288 with 1 Axes>"
      ]
     },
     "metadata": {
      "needs_background": "light"
     },
     "output_type": "display_data"
    }
   ],
   "source": [
    "frequency_series.plot(kind='bar')"
   ]
  },
  {
   "cell_type": "code",
   "execution_count": 25,
   "metadata": {},
   "outputs": [
    {
     "data": {
      "text/plain": [
       "<AxesSubplot:>"
      ]
     },
     "execution_count": 25,
     "metadata": {},
     "output_type": "execute_result"
    },
    {
     "data": {
      "image/png": "[encoded data removed]",
      "text/plain": [
       "<Figure size 432x288 with 1 Axes>"
      ]
     },
     "metadata": {
      "needs_background": "light"
     },
     "output_type": "display_data"
    }
   ],
   "source": [
    "f1 = frequency_series.sort_index(ascending=True)\n",
    "f1.plot(kind='bar')"
   ]
  },
  {
   "cell_type": "code",
   "execution_count": 24,
   "metadata": {},
   "outputs": [
    {
     "data": {
      "text/plain": [
       "<AxesSubplot:>"
      ]
     },
     "execution_count": 24,
     "metadata": {},
     "output_type": "execute_result"
    },
    {
     "data": {
      "image/png": "[encoded data removed]",
      "text/plain": [
       "<Figure size 432x288 with 1 Axes>"
      ]
     },
     "metadata": {
      "needs_background": "light"
     },
     "output_type": "display_data"
    }
   ],
   "source": [
    "f2 = frequency_series.sort_values(ascending=True)\n",
    "f2.plot(kind='bar')"
   ]
  },
  {
   "cell_type": "code",
   "execution_count": 32,
   "metadata": {},
   "outputs": [
    {
     "data": {
      "text/plain": [
       "0    23.0\n",
       "1    24.0\n",
       "2    22.0\n",
       "3    21.0\n",
       "4    25.0\n",
       "5    26.0\n",
       "6     NaN\n",
       "7    26.5\n",
       "8    27.0\n",
       "dtype: float64"
      ]
     },
     "execution_count": 32,
     "metadata": {},
     "output_type": "execute_result"
    }
   ],
   "source": [
    "temperature = [23, 24, 22, 21, 25, 26, None, 26.5, 27]\n",
    "temperature_series = Series(temperature)\n",
    "temperature_series"
   ]
  },
  {
   "cell_type": "code",
   "execution_count": 33,
   "metadata": {},
   "outputs": [
    {
     "data": {
      "text/plain": [
       "0    23.0\n",
       "1    24.0\n",
       "2    22.0\n",
       "3    21.0\n",
       "4    25.0\n",
       "5    26.0\n",
       "7    26.5\n",
       "8    27.0\n",
       "dtype: float64"
      ]
     },
     "execution_count": 33,
     "metadata": {},
     "output_type": "execute_result"
    }
   ],
   "source": [
    "# drop off the Nan data\n",
    "s10 = temperature_series.dropna()\n",
    "s10"
   ]
  },
  {
   "cell_type": "code",
   "execution_count": 34,
   "metadata": {},
   "outputs": [
    {
     "data": {
      "text/plain": [
       "0    23.0\n",
       "1    24.0\n",
       "2    22.0\n",
       "3    21.0\n",
       "4    25.0\n",
       "5    26.0\n",
       "6    25.5\n",
       "7    26.5\n",
       "8    27.0\n",
       "dtype: float64"
      ]
     },
     "execution_count": 34,
     "metadata": {},
     "output_type": "execute_result"
    }
   ],
   "source": [
    "# give it a default value\n",
    "s11 = temperature_series.fillna(25.5)\n",
    "s11"
   ]
  },
  {
   "cell_type": "code",
   "execution_count": 35,
   "metadata": {},
   "outputs": [
    {
     "data": {
      "text/plain": [
       "0    23.0\n",
       "1    24.0\n",
       "2    22.0\n",
       "3    21.0\n",
       "4    25.0\n",
       "5    26.0\n",
       "6    26.0\n",
       "7    26.5\n",
       "8    27.0\n",
       "dtype: float64"
      ]
     },
     "execution_count": 35,
     "metadata": {},
     "output_type": "execute_result"
    }
   ],
   "source": [
    "# interpolate the missing value\n",
    "s12 = temperature_series.ffill()\n",
    "s12"
   ]
  },
  {
   "cell_type": "code",
   "execution_count": 38,
   "metadata": {},
   "outputs": [
    {
     "name": "stdout",
     "output_type": "stream",
     "text": [
      "0    23.0\n",
      "1    24.0\n",
      "2    22.0\n",
      "3    21.0\n",
      "4    25.0\n",
      "5    26.0\n",
      "6     NaN\n",
      "7    26.5\n",
      "8    27.0\n",
      "dtype: float64\n"
     ]
    },
    {
     "data": {
      "text/plain": [
       "6   NaN\n",
       "dtype: float64"
      ]
     },
     "execution_count": 38,
     "metadata": {},
     "output_type": "execute_result"
    }
   ],
   "source": [
    "print(temperature_series)\n",
    "temperature_series[temperature_series.isnull()]"
   ]
  }
 ],
 "metadata": {
  "kernelspec": {
   "display_name": "Python 3",
   "language": "python",
   "name": "python3"
  },
  "language_info": {
   "codemirror_mode": {
    "name": "ipython",
    "version": 3
   },
   "file_extension": ".py",
   "mimetype": "text/x-python",
   "name": "python",
   "nbconvert_exporter": "python",
   "pygments_lexer": "ipython3",
   "version": "3.8.6"
  }
 },
 "nbformat": 4,
 "nbformat_minor": 4
}
