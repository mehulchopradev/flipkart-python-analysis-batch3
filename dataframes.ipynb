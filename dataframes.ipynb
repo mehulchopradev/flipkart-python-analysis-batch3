{
 "cells": [
  {
   "cell_type": "code",
   "execution_count": 32,
   "metadata": {},
   "outputs": [],
   "source": [
    "import pandas as pd\n",
    "from pandas import DataFrame, Series"
   ]
  },
  {
   "cell_type": "code",
   "execution_count": 2,
   "metadata": {},
   "outputs": [],
   "source": [
    "marks = {\n",
    "    'Name': ['mehul', 'jane', 'jill'],\n",
    "    'Roll': [10, 23, 11],\n",
    "    'Physics': [99, 93, 87],\n",
    "    'Chemistry': [93, 78, 90]\n",
    "}"
   ]
  },
  {
   "cell_type": "code",
   "execution_count": 5,
   "metadata": {},
   "outputs": [
    {
     "data": {
      "text/html": [
       "<div>\n",
       "<style scoped>\n",
       "    .dataframe tbody tr th:only-of-type {\n",
       "        vertical-align: middle;\n",
       "    }\n",
       "\n",
       "    .dataframe tbody tr th {\n",
       "        vertical-align: top;\n",
       "    }\n",
       "\n",
       "    .dataframe thead th {\n",
       "        text-align: right;\n",
       "    }\n",
       "</style>\n",
       "<table border=\"1\" class=\"dataframe\">\n",
       "  <thead>\n",
       "    <tr style=\"text-align: right;\">\n",
       "      <th></th>\n",
       "      <th>Name</th>\n",
       "      <th>Roll</th>\n",
       "      <th>Physics</th>\n",
       "      <th>Chemistry</th>\n",
       "    </tr>\n",
       "  </thead>\n",
       "  <tbody>\n",
       "    <tr>\n",
       "      <th>0</th>\n",
       "      <td>mehul</td>\n",
       "      <td>10</td>\n",
       "      <td>99</td>\n",
       "      <td>93</td>\n",
       "    </tr>\n",
       "    <tr>\n",
       "      <th>1</th>\n",
       "      <td>jane</td>\n",
       "      <td>23</td>\n",
       "      <td>93</td>\n",
       "      <td>78</td>\n",
       "    </tr>\n",
       "    <tr>\n",
       "      <th>2</th>\n",
       "      <td>jill</td>\n",
       "      <td>11</td>\n",
       "      <td>87</td>\n",
       "      <td>90</td>\n",
       "    </tr>\n",
       "  </tbody>\n",
       "</table>\n",
       "</div>"
      ],
      "text/plain": [
       "    Name  Roll  Physics  Chemistry\n",
       "0  mehul    10       99         93\n",
       "1   jane    23       93         78\n",
       "2   jill    11       87         90"
      ]
     },
     "execution_count": 5,
     "metadata": {},
     "output_type": "execute_result"
    }
   ],
   "source": [
    "d1 = DataFrame(marks)\n",
    "d1"
   ]
  },
  {
   "cell_type": "code",
   "execution_count": 7,
   "metadata": {},
   "outputs": [
    {
     "name": "stdout",
     "output_type": "stream",
     "text": [
      "RangeIndex(start=0, stop=3, step=1)\n",
      "Index(['Name', 'Roll', 'Physics', 'Chemistry'], dtype='object')\n"
     ]
    }
   ],
   "source": [
    "print(d1.index)\n",
    "print(d1.columns)"
   ]
  },
  {
   "cell_type": "code",
   "execution_count": 11,
   "metadata": {},
   "outputs": [
    {
     "data": {
      "text/html": [
       "<div>\n",
       "<style scoped>\n",
       "    .dataframe tbody tr th:only-of-type {\n",
       "        vertical-align: middle;\n",
       "    }\n",
       "\n",
       "    .dataframe tbody tr th {\n",
       "        vertical-align: top;\n",
       "    }\n",
       "\n",
       "    .dataframe thead th {\n",
       "        text-align: right;\n",
       "    }\n",
       "</style>\n",
       "<table border=\"1\" class=\"dataframe\">\n",
       "  <thead>\n",
       "    <tr style=\"text-align: right;\">\n",
       "      <th></th>\n",
       "      <th>Name</th>\n",
       "      <th>Physics</th>\n",
       "      <th>Chemistry</th>\n",
       "    </tr>\n",
       "  </thead>\n",
       "  <tbody>\n",
       "    <tr>\n",
       "      <th>10</th>\n",
       "      <td>mehul</td>\n",
       "      <td>99</td>\n",
       "      <td>93</td>\n",
       "    </tr>\n",
       "    <tr>\n",
       "      <th>23</th>\n",
       "      <td>jane</td>\n",
       "      <td>93</td>\n",
       "      <td>78</td>\n",
       "    </tr>\n",
       "    <tr>\n",
       "      <th>11</th>\n",
       "      <td>jill</td>\n",
       "      <td>87</td>\n",
       "      <td>90</td>\n",
       "    </tr>\n",
       "  </tbody>\n",
       "</table>\n",
       "</div>"
      ],
      "text/plain": [
       "     Name  Physics  Chemistry\n",
       "10  mehul       99         93\n",
       "23   jane       93         78\n",
       "11   jill       87         90"
      ]
     },
     "execution_count": 11,
     "metadata": {},
     "output_type": "execute_result"
    }
   ],
   "source": [
    "d2 = DataFrame(marks, index=marks['Roll'], columns=['Name', 'Physics', 'Chemistry'])\n",
    "d2"
   ]
  },
  {
   "cell_type": "code",
   "execution_count": 17,
   "metadata": {},
   "outputs": [
    {
     "name": "stdout",
     "output_type": "stream",
     "text": [
      "Name         jane\n",
      "Physics        93\n",
      "Chemistry      78\n",
      "Name: 23, dtype: object\n",
      "     Name  Physics  Chemistry\n",
      "10  mehul       99         93\n",
      "11   jill       87         90\n",
      "10    99\n",
      "23    93\n",
      "11    87\n",
      "Name: Physics, dtype: int64\n",
      "     Name  Chemistry\n",
      "10  mehul         93\n",
      "23   jane         78\n",
      "11   jill         90\n",
      "Physics      99\n",
      "Chemistry    93\n",
      "Name: 10, dtype: object\n",
      "     Name  Chemistry\n",
      "10  mehul         93\n",
      "11   jill         90\n"
     ]
    }
   ],
   "source": [
    "# indexing rows\n",
    "print(d2.loc[23])\n",
    "print(d2.loc[[10, 11]])\n",
    "\n",
    "# indexing cols\n",
    "print(d2['Physics'])\n",
    "print(d2[['Name', 'Chemistry']])\n",
    "\n",
    "# indexing rows + cols\n",
    "print(d2.loc[10, ['Physics', 'Chemistry']])\n",
    "print(d2.loc[[10, 11], ['Name', 'Chemistry']])"
   ]
  },
  {
   "cell_type": "code",
   "execution_count": 21,
   "metadata": {},
   "outputs": [
    {
     "name": "stdout",
     "output_type": "stream",
     "text": [
      "     Name  Physics  Chemistry\n",
      "10  mehul       99         93\n",
      "23   jane       93         78\n",
      "11   jill       87         90\n",
      "     Name  Physics  Chemistry\n",
      "10  mehul       99         93\n",
      "11   jill       87         90\n",
      "    Physics  Chemistry\n",
      "23       93         78\n",
      "11       87         90\n"
     ]
    }
   ],
   "source": [
    "# implict 0 based indices\n",
    "print(d2)\n",
    "print(d2.iloc[[0, -1]])\n",
    "print(d2.iloc[[1, -1], [1, 2]])"
   ]
  },
  {
   "cell_type": "code",
   "execution_count": 26,
   "metadata": {},
   "outputs": [
    {
     "name": "stdout",
     "output_type": "stream",
     "text": [
      "     Name  Physics  Chemistry\n",
      "10  mehul       99         93\n",
      "23   jane       93         78\n",
      "11   jill       87         90\n",
      "     Name  Physics  Chemistry\n",
      "10  mehul       99         93\n",
      "23   jane       93         78\n",
      "    Name  Physics  Chemistry\n",
      "23  jane       93         78\n",
      "11  jill       87         90\n",
      "    Physics  Chemistry\n",
      "10       99         93\n",
      "23       93         78\n",
      "11       87         90\n"
     ]
    }
   ],
   "source": [
    "# slicing\n",
    "print(d2)\n",
    "\n",
    "# row\n",
    "print(d2.iloc[:2])\n",
    "print(d2.iloc[-2:])\n",
    "\n",
    "# column\n",
    "print(d2.iloc[:, 1:])"
   ]
  },
  {
   "cell_type": "code",
   "execution_count": 30,
   "metadata": {},
   "outputs": [
    {
     "name": "stdout",
     "output_type": "stream",
     "text": [
      "     Name  Physics  Chemistry\n",
      "10  mehul       99         93\n",
      "23   jane       93         78\n",
      "11   jill       87         90\n",
      "     Name  Chemistry\n",
      "10  mehul         93\n",
      "23   jane         78\n",
      "     Name  Chemistry\n",
      "10  mehul         93\n",
      "11   jill         90\n"
     ]
    }
   ],
   "source": [
    "# indexing + slicing\n",
    "print(d2)\n",
    "print(d2.iloc[:2, [0, -1]])\n",
    "print(d2.loc[[10, 11], ['Name', 'Chemistry']])"
   ]
  },
  {
   "cell_type": "code",
   "execution_count": 33,
   "metadata": {},
   "outputs": [
    {
     "name": "stdout",
     "output_type": "stream",
     "text": [
      "     Name  Physics  Chemistry\n",
      "10  mehul       99         93\n",
      "23   jane       93         78\n",
      "11   jill       87         90\n",
      "11     99\n",
      "10    100\n",
      "23     89\n",
      "dtype: int64\n"
     ]
    }
   ],
   "source": [
    "print(d2)\n",
    "maths_series = Series({11: 99, 10: 100, 23: 89})\n",
    "print(maths_series)"
   ]
  },
  {
   "cell_type": "code",
   "execution_count": 34,
   "metadata": {},
   "outputs": [],
   "source": [
    "d2['Maths'] = maths_series"
   ]
  },
  {
   "cell_type": "code",
   "execution_count": 35,
   "metadata": {},
   "outputs": [
    {
     "data": {
      "text/html": [
       "<div>\n",
       "<style scoped>\n",
       "    .dataframe tbody tr th:only-of-type {\n",
       "        vertical-align: middle;\n",
       "    }\n",
       "\n",
       "    .dataframe tbody tr th {\n",
       "        vertical-align: top;\n",
       "    }\n",
       "\n",
       "    .dataframe thead th {\n",
       "        text-align: right;\n",
       "    }\n",
       "</style>\n",
       "<table border=\"1\" class=\"dataframe\">\n",
       "  <thead>\n",
       "    <tr style=\"text-align: right;\">\n",
       "      <th></th>\n",
       "      <th>Name</th>\n",
       "      <th>Physics</th>\n",
       "      <th>Chemistry</th>\n",
       "      <th>Maths</th>\n",
       "    </tr>\n",
       "  </thead>\n",
       "  <tbody>\n",
       "    <tr>\n",
       "      <th>10</th>\n",
       "      <td>mehul</td>\n",
       "      <td>99</td>\n",
       "      <td>93</td>\n",
       "      <td>100</td>\n",
       "    </tr>\n",
       "    <tr>\n",
       "      <th>23</th>\n",
       "      <td>jane</td>\n",
       "      <td>93</td>\n",
       "      <td>78</td>\n",
       "      <td>89</td>\n",
       "    </tr>\n",
       "    <tr>\n",
       "      <th>11</th>\n",
       "      <td>jill</td>\n",
       "      <td>87</td>\n",
       "      <td>90</td>\n",
       "      <td>99</td>\n",
       "    </tr>\n",
       "  </tbody>\n",
       "</table>\n",
       "</div>"
      ],
      "text/plain": [
       "     Name  Physics  Chemistry  Maths\n",
       "10  mehul       99         93    100\n",
       "23   jane       93         78     89\n",
       "11   jill       87         90     99"
      ]
     },
     "execution_count": 35,
     "metadata": {},
     "output_type": "execute_result"
    }
   ],
   "source": [
    "d2"
   ]
  },
  {
   "cell_type": "code",
   "execution_count": 36,
   "metadata": {},
   "outputs": [],
   "source": [
    "d2['Total'] = d2['Physics'] + d2['Chemistry'] + d2['Maths']"
   ]
  },
  {
   "cell_type": "code",
   "execution_count": 37,
   "metadata": {},
   "outputs": [
    {
     "data": {
      "text/html": [
       "<div>\n",
       "<style scoped>\n",
       "    .dataframe tbody tr th:only-of-type {\n",
       "        vertical-align: middle;\n",
       "    }\n",
       "\n",
       "    .dataframe tbody tr th {\n",
       "        vertical-align: top;\n",
       "    }\n",
       "\n",
       "    .dataframe thead th {\n",
       "        text-align: right;\n",
       "    }\n",
       "</style>\n",
       "<table border=\"1\" class=\"dataframe\">\n",
       "  <thead>\n",
       "    <tr style=\"text-align: right;\">\n",
       "      <th></th>\n",
       "      <th>Name</th>\n",
       "      <th>Physics</th>\n",
       "      <th>Chemistry</th>\n",
       "      <th>Maths</th>\n",
       "      <th>Total</th>\n",
       "    </tr>\n",
       "  </thead>\n",
       "  <tbody>\n",
       "    <tr>\n",
       "      <th>10</th>\n",
       "      <td>mehul</td>\n",
       "      <td>99</td>\n",
       "      <td>93</td>\n",
       "      <td>100</td>\n",
       "      <td>292</td>\n",
       "    </tr>\n",
       "    <tr>\n",
       "      <th>23</th>\n",
       "      <td>jane</td>\n",
       "      <td>93</td>\n",
       "      <td>78</td>\n",
       "      <td>89</td>\n",
       "      <td>260</td>\n",
       "    </tr>\n",
       "    <tr>\n",
       "      <th>11</th>\n",
       "      <td>jill</td>\n",
       "      <td>87</td>\n",
       "      <td>90</td>\n",
       "      <td>99</td>\n",
       "      <td>276</td>\n",
       "    </tr>\n",
       "  </tbody>\n",
       "</table>\n",
       "</div>"
      ],
      "text/plain": [
       "     Name  Physics  Chemistry  Maths  Total\n",
       "10  mehul       99         93    100    292\n",
       "23   jane       93         78     89    260\n",
       "11   jill       87         90     99    276"
      ]
     },
     "execution_count": 37,
     "metadata": {},
     "output_type": "execute_result"
    }
   ],
   "source": [
    "d2"
   ]
  },
  {
   "cell_type": "code",
   "execution_count": 40,
   "metadata": {},
   "outputs": [
    {
     "data": {
      "text/html": [
       "<div>\n",
       "<style scoped>\n",
       "    .dataframe tbody tr th:only-of-type {\n",
       "        vertical-align: middle;\n",
       "    }\n",
       "\n",
       "    .dataframe tbody tr th {\n",
       "        vertical-align: top;\n",
       "    }\n",
       "\n",
       "    .dataframe thead th {\n",
       "        text-align: right;\n",
       "    }\n",
       "</style>\n",
       "<table border=\"1\" class=\"dataframe\">\n",
       "  <thead>\n",
       "    <tr style=\"text-align: right;\">\n",
       "      <th></th>\n",
       "      <th>Physics</th>\n",
       "      <th>Chemistry</th>\n",
       "      <th>Maths</th>\n",
       "    </tr>\n",
       "  </thead>\n",
       "  <tbody>\n",
       "    <tr>\n",
       "      <th>10</th>\n",
       "      <td>99</td>\n",
       "      <td>93</td>\n",
       "      <td>100</td>\n",
       "    </tr>\n",
       "    <tr>\n",
       "      <th>23</th>\n",
       "      <td>93</td>\n",
       "      <td>78</td>\n",
       "      <td>89</td>\n",
       "    </tr>\n",
       "    <tr>\n",
       "      <th>11</th>\n",
       "      <td>87</td>\n",
       "      <td>90</td>\n",
       "      <td>99</td>\n",
       "    </tr>\n",
       "  </tbody>\n",
       "</table>\n",
       "</div>"
      ],
      "text/plain": [
       "    Physics  Chemistry  Maths\n",
       "10       99         93    100\n",
       "23       93         78     89\n",
       "11       87         90     99"
      ]
     },
     "execution_count": 40,
     "metadata": {},
     "output_type": "execute_result"
    }
   ],
   "source": [
    "d3 = d2.drop(columns=['Name', 'Total'])\n",
    "d3"
   ]
  },
  {
   "cell_type": "code",
   "execution_count": 42,
   "metadata": {},
   "outputs": [
    {
     "name": "stdout",
     "output_type": "stream",
     "text": [
      "Physics      93.0\n",
      "Chemistry    87.0\n",
      "Maths        96.0\n",
      "dtype: float64\n",
      "10    292\n",
      "23    260\n",
      "11    276\n",
      "dtype: int64\n"
     ]
    }
   ],
   "source": [
    "print(d3.mean(axis=0))\n",
    "print(d3.sum(axis=1))"
   ]
  },
  {
   "cell_type": "code",
   "execution_count": 43,
   "metadata": {},
   "outputs": [
    {
     "data": {
      "text/html": [
       "<div>\n",
       "<style scoped>\n",
       "    .dataframe tbody tr th:only-of-type {\n",
       "        vertical-align: middle;\n",
       "    }\n",
       "\n",
       "    .dataframe tbody tr th {\n",
       "        vertical-align: top;\n",
       "    }\n",
       "\n",
       "    .dataframe thead th {\n",
       "        text-align: right;\n",
       "    }\n",
       "</style>\n",
       "<table border=\"1\" class=\"dataframe\">\n",
       "  <thead>\n",
       "    <tr style=\"text-align: right;\">\n",
       "      <th></th>\n",
       "      <th>Verbal</th>\n",
       "      <th>Quant</th>\n",
       "    </tr>\n",
       "  </thead>\n",
       "  <tbody>\n",
       "    <tr>\n",
       "      <th>10</th>\n",
       "      <td>99</td>\n",
       "      <td>100</td>\n",
       "    </tr>\n",
       "    <tr>\n",
       "      <th>11</th>\n",
       "      <td>95</td>\n",
       "      <td>67</td>\n",
       "    </tr>\n",
       "    <tr>\n",
       "      <th>23</th>\n",
       "      <td>93</td>\n",
       "      <td>89</td>\n",
       "    </tr>\n",
       "  </tbody>\n",
       "</table>\n",
       "</div>"
      ],
      "text/plain": [
       "    Verbal  Quant\n",
       "10      99    100\n",
       "11      95     67\n",
       "23      93     89"
      ]
     },
     "execution_count": 43,
     "metadata": {},
     "output_type": "execute_result"
    }
   ],
   "source": [
    "d4 = DataFrame({\n",
    "    'Verbal': [99, 95, 93],\n",
    "    'Quant': [100, 67, 89]\n",
    "}, index=[10, 11, 23])\n",
    "d4"
   ]
  },
  {
   "cell_type": "code",
   "execution_count": 46,
   "metadata": {},
   "outputs": [
    {
     "data": {
      "text/html": [
       "<div>\n",
       "<style scoped>\n",
       "    .dataframe tbody tr th:only-of-type {\n",
       "        vertical-align: middle;\n",
       "    }\n",
       "\n",
       "    .dataframe tbody tr th {\n",
       "        vertical-align: top;\n",
       "    }\n",
       "\n",
       "    .dataframe thead th {\n",
       "        text-align: right;\n",
       "    }\n",
       "</style>\n",
       "<table border=\"1\" class=\"dataframe\">\n",
       "  <thead>\n",
       "    <tr style=\"text-align: right;\">\n",
       "      <th></th>\n",
       "      <th>Name</th>\n",
       "      <th>Physics</th>\n",
       "      <th>Chemistry</th>\n",
       "      <th>Maths</th>\n",
       "      <th>Total</th>\n",
       "      <th>Verbal</th>\n",
       "      <th>Quant</th>\n",
       "    </tr>\n",
       "  </thead>\n",
       "  <tbody>\n",
       "    <tr>\n",
       "      <th>10</th>\n",
       "      <td>mehul</td>\n",
       "      <td>99</td>\n",
       "      <td>93</td>\n",
       "      <td>100</td>\n",
       "      <td>292</td>\n",
       "      <td>99</td>\n",
       "      <td>100</td>\n",
       "    </tr>\n",
       "    <tr>\n",
       "      <th>23</th>\n",
       "      <td>jane</td>\n",
       "      <td>93</td>\n",
       "      <td>78</td>\n",
       "      <td>89</td>\n",
       "      <td>260</td>\n",
       "      <td>93</td>\n",
       "      <td>89</td>\n",
       "    </tr>\n",
       "    <tr>\n",
       "      <th>11</th>\n",
       "      <td>jill</td>\n",
       "      <td>87</td>\n",
       "      <td>90</td>\n",
       "      <td>99</td>\n",
       "      <td>276</td>\n",
       "      <td>95</td>\n",
       "      <td>67</td>\n",
       "    </tr>\n",
       "  </tbody>\n",
       "</table>\n",
       "</div>"
      ],
      "text/plain": [
       "     Name  Physics  Chemistry  Maths  Total  Verbal  Quant\n",
       "10  mehul       99         93    100    292      99    100\n",
       "23   jane       93         78     89    260      93     89\n",
       "11   jill       87         90     99    276      95     67"
      ]
     },
     "execution_count": 46,
     "metadata": {},
     "output_type": "execute_result"
    }
   ],
   "source": [
    "data = pd.merge(d2, d4, left_index=True, right_index=True)\n",
    "data"
   ]
  },
  {
   "cell_type": "code",
   "execution_count": 47,
   "metadata": {},
   "outputs": [
    {
     "data": {
      "text/html": [
       "<div>\n",
       "<style scoped>\n",
       "    .dataframe tbody tr th:only-of-type {\n",
       "        vertical-align: middle;\n",
       "    }\n",
       "\n",
       "    .dataframe tbody tr th {\n",
       "        vertical-align: top;\n",
       "    }\n",
       "\n",
       "    .dataframe thead th {\n",
       "        text-align: right;\n",
       "    }\n",
       "</style>\n",
       "<table border=\"1\" class=\"dataframe\">\n",
       "  <thead>\n",
       "    <tr style=\"text-align: right;\">\n",
       "      <th></th>\n",
       "      <th>Name</th>\n",
       "      <th>Physics</th>\n",
       "      <th>Chemistry</th>\n",
       "      <th>Maths</th>\n",
       "      <th>Total</th>\n",
       "      <th>Verbal</th>\n",
       "      <th>Quant</th>\n",
       "    </tr>\n",
       "  </thead>\n",
       "  <tbody>\n",
       "    <tr>\n",
       "      <th>10</th>\n",
       "      <td>mehul</td>\n",
       "      <td>99</td>\n",
       "      <td>93</td>\n",
       "      <td>100</td>\n",
       "      <td>292</td>\n",
       "      <td>99</td>\n",
       "      <td>100</td>\n",
       "    </tr>\n",
       "    <tr>\n",
       "      <th>11</th>\n",
       "      <td>jill</td>\n",
       "      <td>87</td>\n",
       "      <td>90</td>\n",
       "      <td>99</td>\n",
       "      <td>276</td>\n",
       "      <td>95</td>\n",
       "      <td>67</td>\n",
       "    </tr>\n",
       "    <tr>\n",
       "      <th>23</th>\n",
       "      <td>jane</td>\n",
       "      <td>93</td>\n",
       "      <td>78</td>\n",
       "      <td>89</td>\n",
       "      <td>260</td>\n",
       "      <td>93</td>\n",
       "      <td>89</td>\n",
       "    </tr>\n",
       "  </tbody>\n",
       "</table>\n",
       "</div>"
      ],
      "text/plain": [
       "     Name  Physics  Chemistry  Maths  Total  Verbal  Quant\n",
       "10  mehul       99         93    100    292      99    100\n",
       "11   jill       87         90     99    276      95     67\n",
       "23   jane       93         78     89    260      93     89"
      ]
     },
     "execution_count": 47,
     "metadata": {},
     "output_type": "execute_result"
    }
   ],
   "source": [
    "data.sort_index()"
   ]
  },
  {
   "cell_type": "code",
   "execution_count": 48,
   "metadata": {},
   "outputs": [
    {
     "data": {
      "text/html": [
       "<div>\n",
       "<style scoped>\n",
       "    .dataframe tbody tr th:only-of-type {\n",
       "        vertical-align: middle;\n",
       "    }\n",
       "\n",
       "    .dataframe tbody tr th {\n",
       "        vertical-align: top;\n",
       "    }\n",
       "\n",
       "    .dataframe thead th {\n",
       "        text-align: right;\n",
       "    }\n",
       "</style>\n",
       "<table border=\"1\" class=\"dataframe\">\n",
       "  <thead>\n",
       "    <tr style=\"text-align: right;\">\n",
       "      <th></th>\n",
       "      <th>Name</th>\n",
       "      <th>Physics</th>\n",
       "      <th>Chemistry</th>\n",
       "      <th>Maths</th>\n",
       "      <th>Total</th>\n",
       "      <th>Verbal</th>\n",
       "      <th>Quant</th>\n",
       "    </tr>\n",
       "  </thead>\n",
       "  <tbody>\n",
       "    <tr>\n",
       "      <th>23</th>\n",
       "      <td>jane</td>\n",
       "      <td>93</td>\n",
       "      <td>78</td>\n",
       "      <td>89</td>\n",
       "      <td>260</td>\n",
       "      <td>93</td>\n",
       "      <td>89</td>\n",
       "    </tr>\n",
       "    <tr>\n",
       "      <th>11</th>\n",
       "      <td>jill</td>\n",
       "      <td>87</td>\n",
       "      <td>90</td>\n",
       "      <td>99</td>\n",
       "      <td>276</td>\n",
       "      <td>95</td>\n",
       "      <td>67</td>\n",
       "    </tr>\n",
       "    <tr>\n",
       "      <th>10</th>\n",
       "      <td>mehul</td>\n",
       "      <td>99</td>\n",
       "      <td>93</td>\n",
       "      <td>100</td>\n",
       "      <td>292</td>\n",
       "      <td>99</td>\n",
       "      <td>100</td>\n",
       "    </tr>\n",
       "  </tbody>\n",
       "</table>\n",
       "</div>"
      ],
      "text/plain": [
       "     Name  Physics  Chemistry  Maths  Total  Verbal  Quant\n",
       "23   jane       93         78     89    260      93     89\n",
       "11   jill       87         90     99    276      95     67\n",
       "10  mehul       99         93    100    292      99    100"
      ]
     },
     "execution_count": 48,
     "metadata": {},
     "output_type": "execute_result"
    }
   ],
   "source": [
    "data.sort_values(by='Chemistry')"
   ]
  }
 ],
 "metadata": {
  "kernelspec": {
   "display_name": "Python 3",
   "language": "python",
   "name": "python3"
  },
  "language_info": {
   "codemirror_mode": {
    "name": "ipython",
    "version": 3
   },
   "file_extension": ".py",
   "mimetype": "text/x-python",
   "name": "python",
   "nbconvert_exporter": "python",
   "pygments_lexer": "ipython3",
   "version": "3.8.6"
  }
 },
 "nbformat": 4,
 "nbformat_minor": 4
}
