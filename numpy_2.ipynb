{
 "cells": [
  {
   "cell_type": "code",
   "execution_count": 1,
   "metadata": {},
   "outputs": [],
   "source": [
    "import numpy as np"
   ]
  },
  {
   "cell_type": "code",
   "execution_count": 2,
   "metadata": {},
   "outputs": [],
   "source": [
    "marks = [\n",
    "    [99, 93, 100],\n",
    "    [96, 99, 78],\n",
    "    [100, 97, 89]\n",
    "]"
   ]
  },
  {
   "cell_type": "code",
   "execution_count": 6,
   "metadata": {},
   "outputs": [
    {
     "name": "stdout",
     "output_type": "stream",
     "text": [
      "[[ 99  93 100]\n",
      " [ 96  99  78]\n",
      " [100  97  89]]\n",
      "2\n",
      "(3, 3)\n",
      "<class 'numpy.ndarray'>\n"
     ]
    }
   ],
   "source": [
    "n1 = np.array(marks, dtype=np.int16)\n",
    "print(n1)\n",
    "print(n1.ndim)\n",
    "print(n1.shape)\n",
    "print(type(n1))"
   ]
  },
  {
   "cell_type": "code",
   "execution_count": 12,
   "metadata": {},
   "outputs": [
    {
     "name": "stdout",
     "output_type": "stream",
     "text": [
      "[96 99 78]\n",
      "[100  97  89]\n",
      "100\n",
      "100\n",
      "[[ 99  93 100]\n",
      " [100  97  89]]\n"
     ]
    }
   ],
   "source": [
    "# indexing\n",
    "print(n1[1])\n",
    "print(n1[-1])\n",
    "print(n1[0][-1]) # python indexing on 2D\n",
    "print(n1[0, -1]) # optimal numpy way\n",
    "\n",
    "# multiple indexing\n",
    "print(n1[[0, -1]])"
   ]
  },
  {
   "cell_type": "code",
   "execution_count": 15,
   "metadata": {},
   "outputs": [
    {
     "name": "stdout",
     "output_type": "stream",
     "text": [
      "[[ 99  94 100]\n",
      " [ 96  99  78]\n",
      " [100  97  89]]\n",
      "[[ 99  94 100]\n",
      " [ 96  99  78]\n",
      " [100  97  89]]\n",
      "[[ 99  94 100]\n",
      " [ 96  99  78]\n",
      " [100  97  89]]\n"
     ]
    }
   ],
   "source": [
    "# indexing + modify\n",
    "print(n1)\n",
    "n1[0, 1] = 94\n",
    "print(n1)\n",
    "n2 = n1.copy()\n",
    "print(n2)"
   ]
  },
  {
   "cell_type": "code",
   "execution_count": 17,
   "metadata": {},
   "outputs": [
    {
     "name": "stdout",
     "output_type": "stream",
     "text": [
      "[[ 99  94 100]\n",
      " [ 96  99  78]\n",
      " [  0   0   0]]\n"
     ]
    }
   ],
   "source": [
    "n2[-1] = 0\n",
    "print(n2)"
   ]
  },
  {
   "cell_type": "code",
   "execution_count": 22,
   "metadata": {},
   "outputs": [
    {
     "name": "stdout",
     "output_type": "stream",
     "text": [
      "[[ 99  94 100]\n",
      " [ 96  99  78]\n",
      " [100  97  89]]\n",
      "[[ 99  94 100]\n",
      " [ 96  99  78]]\n",
      "[[ 96  99]\n",
      " [100  97]]\n",
      "[[ 94 100]\n",
      " [ 99  78]]\n"
     ]
    }
   ],
   "source": [
    "# slicing\n",
    "print(n1)\n",
    "print(n1[:2])\n",
    "print(n1[-2:, :2]) # row + col slicing\n",
    "print(n1[:2, -2:])"
   ]
  },
  {
   "cell_type": "code",
   "execution_count": 25,
   "metadata": {},
   "outputs": [
    {
     "name": "stdout",
     "output_type": "stream",
     "text": [
      "[[ 99  94 100]\n",
      " [ 96  99  78]\n",
      " [100  97  89]]\n",
      "[[ 99 100]\n",
      " [ 96  78]]\n"
     ]
    }
   ],
   "source": [
    "# slicing + indexing\n",
    "print(n1)\n",
    "print(n1[:2, [0, -1]])"
   ]
  },
  {
   "cell_type": "code",
   "execution_count": 28,
   "metadata": {},
   "outputs": [
    {
     "name": "stdout",
     "output_type": "stream",
     "text": [
      "[[ 99 100]\n",
      " [100  89]]\n"
     ]
    }
   ],
   "source": [
    "n3 = n1[[0, -1]]\n",
    "print(n3[:, [0, -1]])"
   ]
  },
  {
   "cell_type": "code",
   "execution_count": 33,
   "metadata": {},
   "outputs": [
    {
     "name": "stdout",
     "output_type": "stream",
     "text": [
      "[[ 99  94 100]\n",
      " [ 96  99  78]\n",
      " [100  97  89]]\n",
      "[98.33333333 96.66666667 89.        ]\n",
      "[293 273 286]\n"
     ]
    }
   ],
   "source": [
    "# statistical\n",
    "print(n1)\n",
    "print(n1.mean(axis=0))\n",
    "print(n1.sum(axis=1))"
   ]
  },
  {
   "cell_type": "code",
   "execution_count": 34,
   "metadata": {},
   "outputs": [
    {
     "name": "stdout",
     "output_type": "stream",
     "text": [
      "[[2 3]\n",
      " [5 6]]\n",
      "[[6 4]\n",
      " [3 8]]\n"
     ]
    }
   ],
   "source": [
    "m1 = np.array([\n",
    "    [2, 3],\n",
    "    [5, 6]\n",
    "])\n",
    "m2 = np.array([\n",
    "    [6, 4],\n",
    "    [3, 8]\n",
    "])\n",
    "print(m1)\n",
    "print(m2)"
   ]
  },
  {
   "cell_type": "code",
   "execution_count": 39,
   "metadata": {},
   "outputs": [
    {
     "name": "stdout",
     "output_type": "stream",
     "text": [
      "[[ 8  7]\n",
      " [ 8 14]]\n",
      "[[-4 -1]\n",
      " [ 2 -2]]\n",
      "[[12 12]\n",
      " [15 48]]\n",
      "[[21 32]\n",
      " [48 68]]\n"
     ]
    }
   ],
   "source": [
    "print(m1 + m2)\n",
    "print(m1 - m2)\n",
    "print(m1 * m2) # not matrix multiplication\n",
    "print(np.dot(m1, m2))"
   ]
  }
 ],
 "metadata": {
  "kernelspec": {
   "display_name": "Python 3",
   "language": "python",
   "name": "python3"
  },
  "language_info": {
   "codemirror_mode": {
    "name": "ipython",
    "version": 3
   },
   "file_extension": ".py",
   "mimetype": "text/x-python",
   "name": "python",
   "nbconvert_exporter": "python",
   "pygments_lexer": "ipython3",
   "version": "3.8.6"
  }
 },
 "nbformat": 4,
 "nbformat_minor": 4
}
